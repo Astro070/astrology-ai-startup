{
  "nbformat": 4,
  "nbformat_minor": 0,
  "metadata": {
    "colab": {
      "provenance": [],
      "authorship_tag": "ABX9TyO7H8m6lR4xXF1Y2q6SXpg0",
      "include_colab_link": true
    },
    "kernelspec": {
      "name": "python3",
      "display_name": "Python 3"
    },
    "language_info": {
      "name": "python"
    }
  },
  "cells": [
    {
      "cell_type": "markdown",
      "metadata": {
        "id": "view-in-github",
        "colab_type": "text"
      },
      "source": [
        "<a href=\"https://colab.research.google.com/github/Astro070/astrology-ai-startup/blob/main/Astrology_AI_Startup.ipynb\" target=\"_parent\"><img src=\"https://colab.research.google.com/assets/colab-badge.svg\" alt=\"Open In Colab\"/></a>"
      ]
    },
    {
      "cell_type": "code",
      "execution_count": 2,
      "metadata": {
        "colab": {
          "base_uri": "https://localhost:8080/"
        },
        "id": "BqY7i8lfnxCn",
        "outputId": "6fe4a5ab-593a-4ec7-f107-fcd91d4ebf8c"
      },
      "outputs": [
        {
          "output_type": "stream",
          "name": "stdout",
          "text": [
            "Lets Start\n"
          ]
        }
      ],
      "source": [
        "print(\"Lets Start\")"
      ]
    },
    {
      "cell_type": "code",
      "source": [
        "!pip install flatlib"
      ],
      "metadata": {
        "colab": {
          "base_uri": "https://localhost:8080/"
        },
        "id": "fZQ0DGoXoESB",
        "outputId": "0ecfa81d-8aff-435e-d795-0f76f58ca8b6"
      },
      "execution_count": 3,
      "outputs": [
        {
          "output_type": "stream",
          "name": "stdout",
          "text": [
            "Collecting flatlib\n",
            "  Downloading flatlib-0.2.3-py3-none-any.whl.metadata (733 bytes)\n",
            "Collecting pyswisseph==2.08.00-1 (from flatlib)\n",
            "  Downloading pyswisseph-2.08.00-1.tar.gz (521 kB)\n",
            "\u001b[2K     \u001b[90m━━━━━━━━━━━━━━━━━━━━━━━━━━━━━━━━━━━━━━━\u001b[0m \u001b[32m521.6/521.6 kB\u001b[0m \u001b[31m7.1 MB/s\u001b[0m eta \u001b[36m0:00:00\u001b[0m\n",
            "\u001b[?25h  Preparing metadata (setup.py) ... \u001b[?25l\u001b[?25hdone\n",
            "Downloading flatlib-0.2.3-py3-none-any.whl (5.8 MB)\n",
            "\u001b[2K   \u001b[90m━━━━━━━━━━━━━━━━━━━━━━━━━━━━━━━━━━━━━━━━\u001b[0m \u001b[32m5.8/5.8 MB\u001b[0m \u001b[31m79.2 MB/s\u001b[0m eta \u001b[36m0:00:00\u001b[0m\n",
            "\u001b[?25hBuilding wheels for collected packages: pyswisseph\n",
            "  Building wheel for pyswisseph (setup.py) ... \u001b[?25l\u001b[?25hdone\n",
            "  Created wheel for pyswisseph: filename=pyswisseph-2.8.0.post1-cp311-cp311-linux_x86_64.whl size=841743 sha256=881998bfd7e75ec7bc562510b5e239ec10efe80adc49cab6db1a14376bb6886f\n",
            "  Stored in directory: /root/.cache/pip/wheels/bc/31/d6/9c167547c83765da85910aa2dfa9487efdac3b51bcb271bf2e\n",
            "Successfully built pyswisseph\n",
            "Installing collected packages: pyswisseph, flatlib\n",
            "Successfully installed flatlib-0.2.3 pyswisseph-2.8.0.post1\n"
          ]
        }
      ]
    },
    {
      "cell_type": "code",
      "source": [],
      "metadata": {
        "id": "3R0x7h25oOCW"
      },
      "execution_count": null,
      "outputs": []
    }
  ]
}
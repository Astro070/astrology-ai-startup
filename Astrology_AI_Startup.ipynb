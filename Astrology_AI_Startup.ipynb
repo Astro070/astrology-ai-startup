{
  "nbformat": 4,
  "nbformat_minor": 0,
  "metadata": {
    "colab": {
      "provenance": [],
      "authorship_tag": "ABX9TyO3TTVzbYjPrYDpEwZL9IKp",
      "include_colab_link": true
    },
    "kernelspec": {
      "name": "python3",
      "display_name": "Python 3"
    },
    "language_info": {
      "name": "python"
    }
  },
  "cells": [
    {
      "cell_type": "markdown",
      "metadata": {
        "id": "view-in-github",
        "colab_type": "text"
      },
      "source": [
        "<a href=\"https://colab.research.google.com/github/Astro070/astrology-ai-startup/blob/main/Astrology_AI_Startup.ipynb\" target=\"_parent\"><img src=\"https://colab.research.google.com/assets/colab-badge.svg\" alt=\"Open In Colab\"/></a>"
      ]
    },
    {
      "cell_type": "code",
      "execution_count": 2,
      "metadata": {
        "colab": {
          "base_uri": "https://localhost:8080/"
        },
        "id": "BqY7i8lfnxCn",
        "outputId": "6fe4a5ab-593a-4ec7-f107-fcd91d4ebf8c"
      },
      "outputs": [
        {
          "output_type": "stream",
          "name": "stdout",
          "text": [
            "Lets Start\n"
          ]
        }
      ],
      "source": [
        "print(\"Lets Start\")"
      ]
    },
    {
      "cell_type": "code",
      "source": [
        "!pip install flatlib"
      ],
      "metadata": {
        "colab": {
          "base_uri": "https://localhost:8080/"
        },
        "id": "fZQ0DGoXoESB",
        "outputId": "0ecfa81d-8aff-435e-d795-0f76f58ca8b6"
      },
      "execution_count": 3,
      "outputs": [
        {
          "output_type": "stream",
          "name": "stdout",
          "text": [
            "Collecting flatlib\n",
            "  Downloading flatlib-0.2.3-py3-none-any.whl.metadata (733 bytes)\n",
            "Collecting pyswisseph==2.08.00-1 (from flatlib)\n",
            "  Downloading pyswisseph-2.08.00-1.tar.gz (521 kB)\n",
            "\u001b[2K     \u001b[90m━━━━━━━━━━━━━━━━━━━━━━━━━━━━━━━━━━━━━━━\u001b[0m \u001b[32m521.6/521.6 kB\u001b[0m \u001b[31m7.1 MB/s\u001b[0m eta \u001b[36m0:00:00\u001b[0m\n",
            "\u001b[?25h  Preparing metadata (setup.py) ... \u001b[?25l\u001b[?25hdone\n",
            "Downloading flatlib-0.2.3-py3-none-any.whl (5.8 MB)\n",
            "\u001b[2K   \u001b[90m━━━━━━━━━━━━━━━━━━━━━━━━━━━━━━━━━━━━━━━━\u001b[0m \u001b[32m5.8/5.8 MB\u001b[0m \u001b[31m79.2 MB/s\u001b[0m eta \u001b[36m0:00:00\u001b[0m\n",
            "\u001b[?25hBuilding wheels for collected packages: pyswisseph\n",
            "  Building wheel for pyswisseph (setup.py) ... \u001b[?25l\u001b[?25hdone\n",
            "  Created wheel for pyswisseph: filename=pyswisseph-2.8.0.post1-cp311-cp311-linux_x86_64.whl size=841743 sha256=881998bfd7e75ec7bc562510b5e239ec10efe80adc49cab6db1a14376bb6886f\n",
            "  Stored in directory: /root/.cache/pip/wheels/bc/31/d6/9c167547c83765da85910aa2dfa9487efdac3b51bcb271bf2e\n",
            "Successfully built pyswisseph\n",
            "Installing collected packages: pyswisseph, flatlib\n",
            "Successfully installed flatlib-0.2.3 pyswisseph-2.8.0.post1\n"
          ]
        }
      ]
    },
    {
      "cell_type": "markdown",
      "source": [
        "**Sample Code to Install and Load Flatlib**"
      ],
      "metadata": {
        "id": "anVLDf2LtZ8d"
      }
    },
    {
      "cell_type": "code",
      "source": [
        "# Import required modules\n",
        "from flatlib.chart import Chart\n",
        "from flatlib.datetime import Datetime\n",
        "from flatlib.geopos import GeoPos\n",
        "from flatlib import const\n",
        "\n",
        "# Create sample birth chart\n",
        "date = '1990/06/09'\n",
        "time = '10:00'\n",
        "location = GeoPos('12:58', '77:35')  # Bangalore\n",
        "datetime = Datetime(date, time, '+05:30')\n",
        "chart = Chart(datetime, location)\n",
        "\n",
        "# Print planet positions\n",
        "for obj in [const.SUN, const.MOON, const.MERCURY]:\n",
        "    print(f\"{obj}: {chart.get(obj)}\")\n"
      ],
      "metadata": {
        "colab": {
          "base_uri": "https://localhost:8080/"
        },
        "id": "kjJgT_VQtfZn",
        "outputId": "f18a74f7-eac4-493a-8900-32ca5233ae87"
      },
      "execution_count": 8,
      "outputs": [
        {
          "output_type": "stream",
          "name": "stdout",
          "text": [
            "Sun: <Sun Gemini +18:05:52 +00:57:22>\n",
            "Moon: <Moon Sagittarius +26:08:22 +12:01:39>\n",
            "Mercury: <Mercury Taurus +25:47:18 +01:25:09>\n"
          ]
        }
      ]
    },
    {
      "cell_type": "markdown",
      "source": [
        "**Choose: Rule-Based Logic (Start Small)**"
      ],
      "metadata": {
        "id": "UAjOdzcpxAlc"
      }
    },
    {
      "cell_type": "code",
      "source": [
        "# If Moon is in Aries, say this:\n",
        "moon = chart.get(const.MOON)\n",
        "\n",
        "if moon.sign == 'ARI':\n",
        "    print(\"You are emotionally impulsive and driven by action.\")\n",
        "elif moon.sign == 'TAU':\n",
        "    print(\"You are emotionally grounded and stable.\")\n"
      ],
      "metadata": {
        "id": "sv8MRtp8xHYc"
      },
      "execution_count": 9,
      "outputs": []
    },
    {
      "cell_type": "markdown",
      "source": [
        "**Build a Simple Rule-Based Engine in Colab**"
      ],
      "metadata": {
        "id": "znNqQhmJxWl4"
      }
    },
    {
      "cell_type": "code",
      "source": [
        "def interpret_moon(moon):\n",
        "    if moon.sign == 'ARI':\n",
        "        return \"You are emotionally impulsive and driven by action.\"\n",
        "    elif moon.sign == 'TAU':\n",
        "        return \"You are emotionally grounded and stable.\"\n",
        "    elif moon.sign == 'GEM':\n",
        "        return \"You are expressive and mentally restless.\"\n",
        "    elif moon.sign == 'CAN':\n",
        "        return \"You are deeply intuitive and sensitive.\"\n",
        "    elif moon.sign == 'LEO':\n",
        "        return \"You are emotionally confident and dramatic.\"\n",
        "    elif moon.sign == 'VIR':\n",
        "        return \"You are emotionally practical and detail-oriented.\"\n",
        "    elif moon.sign == 'LIB':\n",
        "        return \"You seek emotional balance and harmony.\"\n",
        "    elif moon.sign == 'SCO':\n",
        "        return \"You experience emotions intensely and passionately.\"\n",
        "    elif moon.sign == 'SAG':\n",
        "        return \"You are emotionally optimistic and freedom-loving.\"\n",
        "    elif moon.sign == 'CAP':\n",
        "        return \"You are emotionally disciplined and reserved.\"\n",
        "    elif moon.sign == 'AQU':\n",
        "        return \"You are emotionally independent and unconventional.\"\n",
        "    elif moon.sign == 'PIS':\n",
        "        return \"You are emotionally compassionate and dreamy.\"\n",
        "    else:\n",
        "        return \"Moon sign interpretation not found.\"\n",
        "\n",
        "# Call with sample chart\n",
        "moon = chart.get(const.MOON)\n",
        "print(interpret_moon(moon))\n"
      ],
      "metadata": {
        "colab": {
          "base_uri": "https://localhost:8080/"
        },
        "id": "xWXOFWDQxYUW",
        "outputId": "7cb9b377-5c24-4094-bcd4-a1463f15c551"
      },
      "execution_count": 12,
      "outputs": [
        {
          "output_type": "stream",
          "name": "stdout",
          "text": [
            "Moon sign interpretation not found.\n"
          ]
        }
      ]
    },
    {
      "cell_type": "markdown",
      "source": [
        "**Save Model / Output as JSON**"
      ],
      "metadata": {
        "id": "l44eqr6exzen"
      }
    },
    {
      "cell_type": "code",
      "source": [
        "import json\n",
        "\n",
        "output = {\n",
        "    \"Sun\": str(chart.get(const.SUN)),\n",
        "    \"Moon\": str(chart.get(const.MOON)),\n",
        "    \"Moon_Interpretation\": interpret_moon(chart.get(const.MOON))\n",
        "}\n",
        "\n",
        "# Save as JSON\n",
        "with open(\"birth_chart_output.json\", \"w\") as f:\n",
        "    json.dump(output, f)\n"
      ],
      "metadata": {
        "id": "amoT589Ax11I"
      },
      "execution_count": 13,
      "outputs": []
    },
    {
      "cell_type": "markdown",
      "source": [
        "**Step 4: Code to Save Interpretation as JSON (in Colab)**"
      ],
      "metadata": {
        "id": "3ny_U_p30sdc"
      }
    },
    {
      "cell_type": "code",
      "source": [
        "import json\n",
        "from flatlib.chart import Chart\n",
        "from flatlib.datetime import Datetime\n",
        "from flatlib.geopos import GeoPos\n",
        "from flatlib import const\n",
        "\n",
        "# Create chart for sample DOB\n",
        "date = '1990/06/09'\n",
        "time = '10:00'\n",
        "location = GeoPos('12:58', '77:35')  # Bangalore\n",
        "datetime = Datetime(date, time, '+05:30')\n",
        "chart = Chart(datetime, location)\n",
        "\n",
        "# Rule-based interpretation (example: Moon sign)\n",
        "def interpret_moon(moon):\n",
        "    if moon.sign == 'ARI':\n",
        "        return \"Emotionally impulsive and driven by action.\"\n",
        "    elif moon.sign == 'TAU':\n",
        "        return \"Emotionally grounded and stable.\"\n",
        "    else:\n",
        "        return \"General emotional nature.\"\n",
        "\n",
        "# Generate output\n",
        "output = {\n",
        "    \"Sun\": str(chart.get(const.SUN)),\n",
        "    \"Moon\": str(chart.get(const.MOON)),\n",
        "    \"Moon_Interpretation\": interpret_moon(chart.get(const.MOON))\n",
        "}\n",
        "\n",
        "# Save output to JSON file\n",
        "with open(\"birth_chart_output.json\", \"w\") as f:\n",
        "    json.dump(output, f, indent=4)\n",
        "\n",
        "print(\"Birth chart saved as JSON.\")\n"
      ],
      "metadata": {
        "colab": {
          "base_uri": "https://localhost:8080/"
        },
        "id": "-l9Ym-da0qea",
        "outputId": "a58c0d3e-11c1-4d39-9595-1f8c53be1a69"
      },
      "execution_count": 16,
      "outputs": [
        {
          "output_type": "stream",
          "name": "stdout",
          "text": [
            "Birth chart saved as JSON.\n"
          ]
        }
      ]
    },
    {
      "cell_type": "markdown",
      "source": [
        "**Step 5: Create a Flask API in Google Colab**"
      ],
      "metadata": {
        "id": "ripBtSoZ2kMu"
      }
    },
    {
      "cell_type": "markdown",
      "source": [
        "**1. Install Flask & flask-ngrok in Colab**"
      ],
      "metadata": {
        "id": "JY_JEXwM2vPW"
      }
    },
    {
      "cell_type": "code",
      "source": [
        "!pip install flask-ngrok\n",
        "!pip install flatlib"
      ],
      "metadata": {
        "colab": {
          "base_uri": "https://localhost:8080/"
        },
        "id": "AtzIgdW72mz4",
        "outputId": "3115292f-1cc9-4fe5-f90c-75aea5f67517"
      },
      "execution_count": 17,
      "outputs": [
        {
          "output_type": "stream",
          "name": "stdout",
          "text": [
            "Collecting flask-ngrok\n",
            "  Downloading flask_ngrok-0.0.25-py3-none-any.whl.metadata (1.8 kB)\n",
            "Requirement already satisfied: Flask>=0.8 in /usr/local/lib/python3.11/dist-packages (from flask-ngrok) (3.1.1)\n",
            "Requirement already satisfied: requests in /usr/local/lib/python3.11/dist-packages (from flask-ngrok) (2.32.3)\n",
            "Requirement already satisfied: blinker>=1.9.0 in /usr/local/lib/python3.11/dist-packages (from Flask>=0.8->flask-ngrok) (1.9.0)\n",
            "Requirement already satisfied: click>=8.1.3 in /usr/local/lib/python3.11/dist-packages (from Flask>=0.8->flask-ngrok) (8.2.1)\n",
            "Requirement already satisfied: itsdangerous>=2.2.0 in /usr/local/lib/python3.11/dist-packages (from Flask>=0.8->flask-ngrok) (2.2.0)\n",
            "Requirement already satisfied: jinja2>=3.1.2 in /usr/local/lib/python3.11/dist-packages (from Flask>=0.8->flask-ngrok) (3.1.6)\n",
            "Requirement already satisfied: markupsafe>=2.1.1 in /usr/local/lib/python3.11/dist-packages (from Flask>=0.8->flask-ngrok) (3.0.2)\n",
            "Requirement already satisfied: werkzeug>=3.1.0 in /usr/local/lib/python3.11/dist-packages (from Flask>=0.8->flask-ngrok) (3.1.3)\n",
            "Requirement already satisfied: charset-normalizer<4,>=2 in /usr/local/lib/python3.11/dist-packages (from requests->flask-ngrok) (3.4.2)\n",
            "Requirement already satisfied: idna<4,>=2.5 in /usr/local/lib/python3.11/dist-packages (from requests->flask-ngrok) (3.10)\n",
            "Requirement already satisfied: urllib3<3,>=1.21.1 in /usr/local/lib/python3.11/dist-packages (from requests->flask-ngrok) (2.4.0)\n",
            "Requirement already satisfied: certifi>=2017.4.17 in /usr/local/lib/python3.11/dist-packages (from requests->flask-ngrok) (2025.4.26)\n",
            "Downloading flask_ngrok-0.0.25-py3-none-any.whl (3.1 kB)\n",
            "Installing collected packages: flask-ngrok\n",
            "Successfully installed flask-ngrok-0.0.25\n",
            "Requirement already satisfied: flatlib in /usr/local/lib/python3.11/dist-packages (0.2.3)\n",
            "Requirement already satisfied: pyswisseph==2.08.00-1 in /usr/local/lib/python3.11/dist-packages (from flatlib) (2.8.0.post1)\n"
          ]
        }
      ]
    },
    {
      "cell_type": "markdown",
      "source": [
        "**2. Flask API Code (Copy this in a new Colab cell)**"
      ],
      "metadata": {
        "id": "v1vsX_fE2z5X"
      }
    },
    {
      "cell_type": "code",
      "source": [
        "!pip install flask-ngrok flatlib\n",
        "\n",
        "from flask import Flask, request, jsonify\n",
        "from flask_ngrok import run_with_ngrok\n",
        "from flatlib.chart import Chart\n",
        "from flatlib.datetime import Datetime\n",
        "from flatlib.geopos import GeoPos\n",
        "from flatlib import const\n",
        "\n",
        "app = Flask(__name__)\n",
        "run_with_ngrok(app)  # Expose the app publicly\n",
        "\n",
        "# Function to convert decimal degrees to 'degrees:minutes' string\n",
        "def decimal_to_degmin(decimal):\n",
        "    degrees = int(decimal)\n",
        "    minutes = int(abs(decimal - degrees) * 60)\n",
        "    return f\"{degrees}:{minutes:02d}\"\n",
        "\n",
        "# Rule-based interpretation function for Moon sign\n",
        "def interpret_moon(moon):\n",
        "    if moon.sign == 'ARI':\n",
        "        return \"Emotionally impulsive and driven by action.\"\n",
        "    elif moon.sign == 'TAU':\n",
        "        return \"Emotionally grounded and stable.\"\n",
        "    elif moon.sign == 'GEM':\n",
        "        return \"Emotionally curious and quick-witted.\"\n",
        "    else:\n",
        "        return \"General emotional nature.\"\n",
        "\n",
        "@app.route('/get_chart', methods=['POST'])\n",
        "def get_chart():\n",
        "    data = request.get_json()\n",
        "\n",
        "    # Extract input values\n",
        "    date = data.get('date')       # Format: 'YYYY/MM/DD', e.g., '1990/06/09'\n",
        "    time = data.get('time')       # Format: 'HH:MM', e.g., '10:00'\n",
        "    lat_decimal = float(data.get('lat'))  # e.g., 12.9716\n",
        "    lon_decimal = float(data.get('lon'))  # e.g., 77.5946\n",
        "    timezone = data.get('timezone', '+05:30')  # default to IST if not provided\n",
        "\n",
        "    # Convert decimal lat/lon to degrees:minutes format\n",
        "    lat = decimal_to_degmin(lat_decimal)\n",
        "    lon = decimal_to_degmin(lon_decimal)\n",
        "\n",
        "    try:\n",
        "        # Create the astrology chart\n",
        "        chart = Chart(Datetime(date, time, timezone), GeoPos(lat, lon))\n",
        "        moon = chart.get(const.MOON)\n",
        "\n",
        "        # Prepare output JSON\n",
        "        result = {\n",
        "            'Sun': str(chart.get(const.SUN)),\n",
        "            'Moon': str(moon),\n",
        "            'Moon_Interpretation': interpret_moon(moon)\n",
        "        }\n",
        "\n",
        "        return jsonify(result)\n",
        "\n",
        "    except Exception as e:\n",
        "        return jsonify({'error': str(e)}), 400\n",
        "\n",
        "# Run the Flask app\n",
        "app.run()\n"
      ],
      "metadata": {
        "colab": {
          "base_uri": "https://localhost:8080/"
        },
        "id": "sVGCMtlS3Kmw",
        "outputId": "6468d181-aedf-47dc-fcc0-e2195e486f89"
      },
      "execution_count": 19,
      "outputs": [
        {
          "output_type": "stream",
          "name": "stdout",
          "text": [
            " * Serving Flask app '__main__'\n",
            " * Debug mode: off\n"
          ]
        },
        {
          "output_type": "stream",
          "name": "stderr",
          "text": [
            "INFO:werkzeug:\u001b[31m\u001b[1mWARNING: This is a development server. Do not use it in a production deployment. Use a production WSGI server instead.\u001b[0m\n",
            " * Running on http://127.0.0.1:5000\n",
            "INFO:werkzeug:\u001b[33mPress CTRL+C to quit\u001b[0m\n",
            "Exception in thread Thread-9:\n",
            "Traceback (most recent call last):\n",
            "  File \"/usr/local/lib/python3.11/dist-packages/urllib3/connection.py\", line 198, in _new_conn\n",
            "    sock = connection.create_connection(\n",
            "           ^^^^^^^^^^^^^^^^^^^^^^^^^^^^^\n",
            "  File \"/usr/local/lib/python3.11/dist-packages/urllib3/util/connection.py\", line 85, in create_connection\n",
            "    raise err\n",
            "  File \"/usr/local/lib/python3.11/dist-packages/urllib3/util/connection.py\", line 73, in create_connection\n",
            "    sock.connect(sa)\n",
            "ConnectionRefusedError: [Errno 111] Connection refused\n",
            "\n",
            "The above exception was the direct cause of the following exception:\n",
            "\n",
            "Traceback (most recent call last):\n",
            "  File \"/usr/local/lib/python3.11/dist-packages/urllib3/connectionpool.py\", line 787, in urlopen\n",
            "    response = self._make_request(\n",
            "               ^^^^^^^^^^^^^^^^^^^\n",
            "  File \"/usr/local/lib/python3.11/dist-packages/urllib3/connectionpool.py\", line 493, in _make_request\n",
            "    conn.request(\n",
            "  File \"/usr/local/lib/python3.11/dist-packages/urllib3/connection.py\", line 445, in request\n",
            "    self.endheaders()\n",
            "  File \"/usr/lib/python3.11/http/client.py\", line 1298, in endheaders\n",
            "    self._send_output(message_body, encode_chunked=encode_chunked)\n",
            "  File \"/usr/lib/python3.11/http/client.py\", line 1058, in _send_output\n",
            "    self.send(msg)\n",
            "  File \"/usr/lib/python3.11/http/client.py\", line 996, in send\n",
            "    self.connect()\n",
            "  File \"/usr/local/lib/python3.11/dist-packages/urllib3/connection.py\", line 276, in connect\n",
            "    self.sock = self._new_conn()\n",
            "                ^^^^^^^^^^^^^^^^\n",
            "  File \"/usr/local/lib/python3.11/dist-packages/urllib3/connection.py\", line 213, in _new_conn\n",
            "    raise NewConnectionError(\n",
            "urllib3.exceptions.NewConnectionError: <urllib3.connection.HTTPConnection object at 0x7ec21fb0ab50>: Failed to establish a new connection: [Errno 111] Connection refused\n",
            "\n",
            "The above exception was the direct cause of the following exception:\n",
            "\n",
            "Traceback (most recent call last):\n",
            "  File \"/usr/local/lib/python3.11/dist-packages/requests/adapters.py\", line 667, in send\n",
            "    resp = conn.urlopen(\n",
            "           ^^^^^^^^^^^^^\n",
            "  File \"/usr/local/lib/python3.11/dist-packages/urllib3/connectionpool.py\", line 841, in urlopen\n",
            "    retries = retries.increment(\n",
            "              ^^^^^^^^^^^^^^^^^^\n",
            "  File \"/usr/local/lib/python3.11/dist-packages/urllib3/util/retry.py\", line 519, in increment\n",
            "    raise MaxRetryError(_pool, url, reason) from reason  # type: ignore[arg-type]\n",
            "    ^^^^^^^^^^^^^^^^^^^^^^^^^^^^^^^^^^^^^^^^^^^^^^^^^^^\n",
            "urllib3.exceptions.MaxRetryError: HTTPConnectionPool(host='localhost', port=4040): Max retries exceeded with url: /api/tunnels (Caused by NewConnectionError('<urllib3.connection.HTTPConnection object at 0x7ec21fb0ab50>: Failed to establish a new connection: [Errno 111] Connection refused'))\n",
            "\n",
            "During handling of the above exception, another exception occurred:\n",
            "\n",
            "Traceback (most recent call last):\n",
            "  File \"/usr/lib/python3.11/threading.py\", line 1045, in _bootstrap_inner\n",
            "    self.run()\n",
            "  File \"/usr/lib/python3.11/threading.py\", line 1401, in run\n",
            "    self.function(*self.args, **self.kwargs)\n",
            "  File \"/usr/local/lib/python3.11/dist-packages/flask_ngrok.py\", line 70, in start_ngrok\n",
            "    ngrok_address = _run_ngrok()\n",
            "                    ^^^^^^^^^^^^\n",
            "  File \"/usr/local/lib/python3.11/dist-packages/flask_ngrok.py\", line 35, in _run_ngrok\n",
            "    tunnel_url = requests.get(localhost_url).text  # Get the tunnel information\n",
            "                 ^^^^^^^^^^^^^^^^^^^^^^^^^^^\n",
            "  File \"/usr/local/lib/python3.11/dist-packages/requests/api.py\", line 73, in get\n",
            "    return request(\"get\", url, params=params, **kwargs)\n",
            "           ^^^^^^^^^^^^^^^^^^^^^^^^^^^^^^^^^^^^^^^^^^^^\n",
            "  File \"/usr/local/lib/python3.11/dist-packages/requests/api.py\", line 59, in request\n",
            "    return session.request(method=method, url=url, **kwargs)\n",
            "           ^^^^^^^^^^^^^^^^^^^^^^^^^^^^^^^^^^^^^^^^^^^^^^^^^\n",
            "  File \"/usr/local/lib/python3.11/dist-packages/requests/sessions.py\", line 589, in request\n",
            "    resp = self.send(prep, **send_kwargs)\n",
            "           ^^^^^^^^^^^^^^^^^^^^^^^^^^^^^^\n",
            "  File \"/usr/local/lib/python3.11/dist-packages/requests/sessions.py\", line 703, in send\n",
            "    r = adapter.send(request, **kwargs)\n",
            "        ^^^^^^^^^^^^^^^^^^^^^^^^^^^^^^^\n",
            "  File \"/usr/local/lib/python3.11/dist-packages/requests/adapters.py\", line 700, in send\n",
            "    raise ConnectionError(e, request=request)\n",
            "requests.exceptions.ConnectionError: HTTPConnectionPool(host='localhost', port=4040): Max retries exceeded with url: /api/tunnels (Caused by NewConnectionError('<urllib3.connection.HTTPConnection object at 0x7ec21fb0ab50>: Failed to establish a new connection: [Errno 111] Connection refused'))\n"
          ]
        }
      ]
    }
  ]
}